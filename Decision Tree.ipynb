{
 "cells": [
  {
   "cell_type": "code",
   "execution_count": 257,
   "id": "804627cb",
   "metadata": {},
   "outputs": [
    {
     "data": {
      "text/html": [
       "<div>\n",
       "<style scoped>\n",
       "    .dataframe tbody tr th:only-of-type {\n",
       "        vertical-align: middle;\n",
       "    }\n",
       "\n",
       "    .dataframe tbody tr th {\n",
       "        vertical-align: top;\n",
       "    }\n",
       "\n",
       "    .dataframe thead th {\n",
       "        text-align: right;\n",
       "    }\n",
       "</style>\n",
       "<table border=\"1\" class=\"dataframe\">\n",
       "  <thead>\n",
       "    <tr style=\"text-align: right;\">\n",
       "      <th></th>\n",
       "      <th>0</th>\n",
       "      <th>1</th>\n",
       "      <th>2</th>\n",
       "      <th>3</th>\n",
       "      <th>4</th>\n",
       "      <th>5</th>\n",
       "      <th>6</th>\n",
       "    </tr>\n",
       "  </thead>\n",
       "  <tbody>\n",
       "    <tr>\n",
       "      <th>0</th>\n",
       "      <td>63.03</td>\n",
       "      <td>22.55</td>\n",
       "      <td>39.61</td>\n",
       "      <td>40.48</td>\n",
       "      <td>98.67</td>\n",
       "      <td>-0.25</td>\n",
       "      <td>DH</td>\n",
       "    </tr>\n",
       "    <tr>\n",
       "      <th>1</th>\n",
       "      <td>39.06</td>\n",
       "      <td>10.06</td>\n",
       "      <td>25.02</td>\n",
       "      <td>29.00</td>\n",
       "      <td>114.41</td>\n",
       "      <td>4.56</td>\n",
       "      <td>DH</td>\n",
       "    </tr>\n",
       "    <tr>\n",
       "      <th>2</th>\n",
       "      <td>68.83</td>\n",
       "      <td>22.22</td>\n",
       "      <td>50.09</td>\n",
       "      <td>46.61</td>\n",
       "      <td>105.99</td>\n",
       "      <td>-3.53</td>\n",
       "      <td>DH</td>\n",
       "    </tr>\n",
       "    <tr>\n",
       "      <th>3</th>\n",
       "      <td>69.30</td>\n",
       "      <td>24.65</td>\n",
       "      <td>44.31</td>\n",
       "      <td>44.64</td>\n",
       "      <td>101.87</td>\n",
       "      <td>11.21</td>\n",
       "      <td>DH</td>\n",
       "    </tr>\n",
       "    <tr>\n",
       "      <th>4</th>\n",
       "      <td>49.71</td>\n",
       "      <td>9.65</td>\n",
       "      <td>28.32</td>\n",
       "      <td>40.06</td>\n",
       "      <td>108.17</td>\n",
       "      <td>7.92</td>\n",
       "      <td>DH</td>\n",
       "    </tr>\n",
       "    <tr>\n",
       "      <th>...</th>\n",
       "      <td>...</td>\n",
       "      <td>...</td>\n",
       "      <td>...</td>\n",
       "      <td>...</td>\n",
       "      <td>...</td>\n",
       "      <td>...</td>\n",
       "      <td>...</td>\n",
       "    </tr>\n",
       "    <tr>\n",
       "      <th>305</th>\n",
       "      <td>47.90</td>\n",
       "      <td>13.62</td>\n",
       "      <td>36.00</td>\n",
       "      <td>34.29</td>\n",
       "      <td>117.45</td>\n",
       "      <td>-4.25</td>\n",
       "      <td>NO</td>\n",
       "    </tr>\n",
       "    <tr>\n",
       "      <th>306</th>\n",
       "      <td>53.94</td>\n",
       "      <td>20.72</td>\n",
       "      <td>29.22</td>\n",
       "      <td>33.22</td>\n",
       "      <td>114.37</td>\n",
       "      <td>-0.42</td>\n",
       "      <td>NO</td>\n",
       "    </tr>\n",
       "    <tr>\n",
       "      <th>307</th>\n",
       "      <td>61.45</td>\n",
       "      <td>22.69</td>\n",
       "      <td>46.17</td>\n",
       "      <td>38.75</td>\n",
       "      <td>125.67</td>\n",
       "      <td>-2.71</td>\n",
       "      <td>NO</td>\n",
       "    </tr>\n",
       "    <tr>\n",
       "      <th>308</th>\n",
       "      <td>45.25</td>\n",
       "      <td>8.69</td>\n",
       "      <td>41.58</td>\n",
       "      <td>36.56</td>\n",
       "      <td>118.55</td>\n",
       "      <td>0.21</td>\n",
       "      <td>NO</td>\n",
       "    </tr>\n",
       "    <tr>\n",
       "      <th>309</th>\n",
       "      <td>33.84</td>\n",
       "      <td>5.07</td>\n",
       "      <td>36.64</td>\n",
       "      <td>28.77</td>\n",
       "      <td>123.95</td>\n",
       "      <td>-0.20</td>\n",
       "      <td>NO</td>\n",
       "    </tr>\n",
       "  </tbody>\n",
       "</table>\n",
       "<p>310 rows × 7 columns</p>\n",
       "</div>"
      ],
      "text/plain": [
       "         0      1      2      3       4      5   6\n",
       "0    63.03  22.55  39.61  40.48   98.67  -0.25  DH\n",
       "1    39.06  10.06  25.02  29.00  114.41   4.56  DH\n",
       "2    68.83  22.22  50.09  46.61  105.99  -3.53  DH\n",
       "3    69.30  24.65  44.31  44.64  101.87  11.21  DH\n",
       "4    49.71   9.65  28.32  40.06  108.17   7.92  DH\n",
       "..     ...    ...    ...    ...     ...    ...  ..\n",
       "305  47.90  13.62  36.00  34.29  117.45  -4.25  NO\n",
       "306  53.94  20.72  29.22  33.22  114.37  -0.42  NO\n",
       "307  61.45  22.69  46.17  38.75  125.67  -2.71  NO\n",
       "308  45.25   8.69  41.58  36.56  118.55   0.21  NO\n",
       "309  33.84   5.07  36.64  28.77  123.95  -0.20  NO\n",
       "\n",
       "[310 rows x 7 columns]"
      ]
     },
     "execution_count": 257,
     "metadata": {},
     "output_type": "execute_result"
    }
   ],
   "source": [
    "from sklearn import tree, preprocessing\n",
    "from sklearn.model_selection import train_test_split\n",
    "from sklearn.model_selection import GridSearchCV\n",
    "from sklearn.metrics import accuracy_score\n",
    "from sklearn.metrics import confusion_matrix, ConfusionMatrixDisplay\n",
    "from sklearn.metrics import plot_confusion_matrix\n",
    "import matplotlib.pyplot as plt\n",
    "import numpy as np\n",
    "import pandas as pd\n",
    "df = pd.read_csv(\"column_3C.dat\", sep = \" \", header = None)\n",
    "df"
   ]
  },
  {
   "cell_type": "code",
   "execution_count": 196,
   "id": "e38bb041",
   "metadata": {},
   "outputs": [],
   "source": [
    "x = df.iloc[:,:-1]\n",
    "y = df.iloc[:,6]\n",
    "from sklearn import preprocessing\n",
    "le = preprocessing.LabelEncoder()\n",
    "labels = le.fit_transform(y)"
   ]
  },
  {
   "cell_type": "markdown",
   "id": "f37f99aa",
   "metadata": {},
   "source": [
    "# RATIO 0.7:0.3"
   ]
  },
  {
   "cell_type": "code",
   "execution_count": 262,
   "id": "28437029",
   "metadata": {},
   "outputs": [],
   "source": [
    "X_train, X_test, Y_train, Y_test = train_test_split(x, y, test_size = 0.3, stratify = y, random_state = 1)"
   ]
  },
  {
   "cell_type": "markdown",
   "id": "b46637f6",
   "metadata": {},
   "source": [
    "### criterion=gini, max_depth=None, ccp_alpha=None "
   ]
  },
  {
   "cell_type": "code",
   "execution_count": 198,
   "id": "276ad89b",
   "metadata": {},
   "outputs": [
    {
     "name": "stdout",
     "output_type": "stream",
     "text": [
      "0.8064516129032258\n",
      "[[11  6  1]\n",
      " [ 8 21  1]\n",
      " [ 1  1 43]]\n"
     ]
    }
   ],
   "source": [
    "clf1 = tree.DecisionTreeClassifier(random_state=1)\n",
    "clf1.fit(X_train, Y_train)\n",
    "prd = clf1.predict(X_test)\n",
    "print(accuracy_score(Y_test, prd))\n",
    "print(confusion_matrix(Y_test, prd))"
   ]
  },
  {
   "cell_type": "markdown",
   "id": "6384c4d2",
   "metadata": {},
   "source": [
    "### criterion=gini, max_depth=5, ccp_alpha=None "
   ]
  },
  {
   "cell_type": "code",
   "execution_count": 267,
   "id": "c5dc3b06",
   "metadata": {},
   "outputs": [
    {
     "name": "stdout",
     "output_type": "stream",
     "text": [
      "0.7849462365591398\n",
      "[[10  8  0]\n",
      " [ 8 22  0]\n",
      " [ 1  3 41]]\n"
     ]
    },
    {
     "data": {
      "image/png": "[encoded data removed]",
      "text/plain": [
       "<Figure size 640x480 with 2 Axes>"
      ]
     },
     "metadata": {},
     "output_type": "display_data"
    }
   ],
   "source": [
    "clf2 = tree.DecisionTreeClassifier(random_state=1, max_depth=5)\n",
    "clf2.fit(X_train, Y_train)\n",
    "prd = clf2.predict(X_test)\n",
    "print(accuracy_score(Y_test, prd))\n",
    "cm = confusion_matrix(Y_test, prd)\n",
    "print(cm)\n",
    "\n",
    "disp = ConfusionMatrixDisplay(confusion_matrix=cm, display_labels=clf2.classes_)\n",
    "disp.plot()\n",
    "disp.ax_.set_title(\"Confusion Matrix for 2\")\n",
    "plt.show()"
   ]
  },
  {
   "cell_type": "markdown",
   "id": "ef282f38",
   "metadata": {},
   "source": [
    "### criterion=gini, max_depth=None, ccp_alpha=0.01"
   ]
  },
  {
   "cell_type": "code",
   "execution_count": 264,
   "id": "40e67647",
   "metadata": {},
   "outputs": [
    {
     "name": "stdout",
     "output_type": "stream",
     "text": [
      "0.8172043010752689\n",
      "[[10  8  0]\n",
      " [ 8 22  0]\n",
      " [ 1  0 44]]\n"
     ]
    },
    {
     "data": {
      "image/png": "[encoded data removed]",
      "text/plain": [
       "<Figure size 640x480 with 2 Axes>"
      ]
     },
     "metadata": {},
     "output_type": "display_data"
    }
   ],
   "source": [
    "clf3 = tree.DecisionTreeClassifier(random_state=1, ccp_alpha=0.01)\n",
    "clf3.fit(X_train, Y_train)\n",
    "prd = clf3.predict(X_test)\n",
    "print(accuracy_score(Y_test, prd))\n",
    "cm = confusion_matrix(Y_test, prd)\n",
    "print(cm)\n",
    "\n",
    "disp = ConfusionMatrixDisplay(confusion_matrix=cm, display_labels=clf3.classes_)\n",
    "disp.plot()\n",
    "disp.ax_.set_title(\"Confusion Matrix for 3\")\n",
    "plt.show()"
   ]
  },
  {
   "cell_type": "markdown",
   "id": "ecf11ec9",
   "metadata": {},
   "source": [
    "### criterion=entropy, max_depth=None, ccp_alpha=None"
   ]
  },
  {
   "cell_type": "code",
   "execution_count": 201,
   "id": "30a02688",
   "metadata": {},
   "outputs": [
    {
     "name": "stdout",
     "output_type": "stream",
     "text": [
      "0.8279569892473119\n",
      "[[10  8  0]\n",
      " [ 7 23  0]\n",
      " [ 1  0 44]]\n"
     ]
    }
   ],
   "source": [
    "clf4 = tree.DecisionTreeClassifier(random_state=1, criterion = 'entropy')\n",
    "clf4.fit(X_train, Y_train)\n",
    "prd = clf4.predict(X_test)\n",
    "print(accuracy_score(Y_test, prd))\n",
    "print(confusion_matrix(Y_test, prd))"
   ]
  },
  {
   "cell_type": "markdown",
   "id": "e240247d",
   "metadata": {},
   "source": [
    "### criterion=entropy, max_depth=5, ccp_alpha=None"
   ]
  },
  {
   "cell_type": "code",
   "execution_count": 202,
   "id": "e1163e93",
   "metadata": {},
   "outputs": [
    {
     "name": "stdout",
     "output_type": "stream",
     "text": [
      "0.7956989247311828\n",
      "[[ 9  9  0]\n",
      " [ 7 23  0]\n",
      " [ 1  2 42]]\n"
     ]
    }
   ],
   "source": [
    "clf5 = tree.DecisionTreeClassifier(random_state=1, criterion = 'entropy', max_depth=5)\n",
    "clf5.fit(X_train, Y_train)\n",
    "prd = clf5.predict(X_test)\n",
    "print(accuracy_score(Y_test, prd))\n",
    "print(confusion_matrix(Y_test, prd))"
   ]
  },
  {
   "cell_type": "markdown",
   "id": "f2be4c8c",
   "metadata": {},
   "source": [
    "### criterion=entropy, max_depth=None, ccp_alpha=0.01"
   ]
  },
  {
   "cell_type": "code",
   "execution_count": 203,
   "id": "5e892164",
   "metadata": {},
   "outputs": [
    {
     "name": "stdout",
     "output_type": "stream",
     "text": [
      "0.8279569892473119\n",
      "[[10  8  0]\n",
      " [ 7 23  0]\n",
      " [ 1  0 44]]\n"
     ]
    }
   ],
   "source": [
    "clf6 = tree.DecisionTreeClassifier(random_state=1, criterion = 'entropy', ccp_alpha=0.01)\n",
    "clf6.fit(X_train, Y_train)\n",
    "prd = clf6.predict(X_test)\n",
    "print(accuracy_score(Y_test, prd))\n",
    "print(confusion_matrix(Y_test, prd))"
   ]
  },
  {
   "cell_type": "markdown",
   "id": "ec85a285",
   "metadata": {},
   "source": [
    "# RATIO 0.6:0.4"
   ]
  },
  {
   "cell_type": "code",
   "execution_count": 204,
   "id": "75067275",
   "metadata": {},
   "outputs": [],
   "source": [
    "X_train, X_test, Y_train, Y_test = train_test_split(x, y, test_size = 0.4, stratify = y, random_state = 1)"
   ]
  },
  {
   "cell_type": "markdown",
   "id": "9f6616da",
   "metadata": {},
   "source": [
    "### criterion=gini, max_depth=None, ccp_alpha=None"
   ]
  },
  {
   "cell_type": "code",
   "execution_count": 205,
   "id": "1db214d1",
   "metadata": {},
   "outputs": [
    {
     "name": "stdout",
     "output_type": "stream",
     "text": [
      "0.8225806451612904\n",
      "[[13 11  0]\n",
      " [ 8 32  0]\n",
      " [ 0  3 57]]\n"
     ]
    }
   ],
   "source": [
    "clf7 = tree.DecisionTreeClassifier(random_state=1)\n",
    "clf7.fit(X_train, Y_train)\n",
    "prd = clf7.predict(X_test)\n",
    "print(accuracy_score(Y_test, prd))\n",
    "print(confusion_matrix(Y_test, prd))"
   ]
  },
  {
   "cell_type": "markdown",
   "id": "f13753db",
   "metadata": {},
   "source": [
    "### criterion=gini, max_depth=5, ccp_alpha=None"
   ]
  },
  {
   "cell_type": "code",
   "execution_count": 206,
   "id": "064d6da7",
   "metadata": {},
   "outputs": [
    {
     "name": "stdout",
     "output_type": "stream",
     "text": [
      "0.782258064516129\n",
      "[[12 12  0]\n",
      " [ 9 31  0]\n",
      " [ 0  6 54]]\n"
     ]
    }
   ],
   "source": [
    "clf8 = tree.DecisionTreeClassifier(random_state=1, max_depth=5)\n",
    "clf8.fit(X_train, Y_train)\n",
    "prd = clf8.predict(X_test)\n",
    "print(accuracy_score(Y_test, prd))\n",
    "print(confusion_matrix(Y_test, prd))"
   ]
  },
  {
   "cell_type": "markdown",
   "id": "3a4fb296",
   "metadata": {},
   "source": [
    "### criterion=gini, max_depth=None, ccp_alpha=0.01"
   ]
  },
  {
   "cell_type": "code",
   "execution_count": 207,
   "id": "2688c2da",
   "metadata": {},
   "outputs": [
    {
     "name": "stdout",
     "output_type": "stream",
     "text": [
      "0.8225806451612904\n",
      "[[13 11  0]\n",
      " [ 9 31  0]\n",
      " [ 1  1 58]]\n"
     ]
    }
   ],
   "source": [
    "clf9 = tree.DecisionTreeClassifier(random_state=1, ccp_alpha=0.01)\n",
    "clf9.fit(X_train, Y_train)\n",
    "prd = clf9.predict(X_test)\n",
    "print(accuracy_score(Y_test, prd))\n",
    "print(confusion_matrix(Y_test, prd))"
   ]
  },
  {
   "cell_type": "markdown",
   "id": "44ecb329",
   "metadata": {},
   "source": [
    "### criterion=entropy, max_depth=None, ccp_alpha=None"
   ]
  },
  {
   "cell_type": "code",
   "execution_count": 235,
   "id": "ec3326d7",
   "metadata": {},
   "outputs": [
    {
     "name": "stdout",
     "output_type": "stream",
     "text": [
      "0.8145161290322581\n",
      "[[14 10  0]\n",
      " [ 7 33  0]\n",
      " [ 1  5 54]]\n"
     ]
    },
    {
     "data": {
      "image/png": "[encoded data removed]",
      "text/plain": [
       "<Figure size 640x480 with 2 Axes>"
      ]
     },
     "metadata": {},
     "output_type": "display_data"
    }
   ],
   "source": [
    "clf10 = tree.DecisionTreeClassifier(random_state=1, criterion = 'entropy')\n",
    "clf10.fit(X_train, Y_train)\n",
    "prd = clf10.predict(X_test)\n",
    "print(accuracy_score(Y_test, prd))\n",
    "cm = confusion_matrix(Y_test, prd)\n",
    "print(cm)\n",
    "\n",
    "disp = ConfusionMatrixDisplay(confusion_matrix=cm, display_labels=clf2.classes_)\n",
    "disp.plot()\n",
    "disp.ax_.set_title(\"Confusion Matrix for 10\")\n",
    "plt.show()"
   ]
  },
  {
   "cell_type": "markdown",
   "id": "362f30bb",
   "metadata": {},
   "source": [
    "### criterion=entropy, max_depth=5, ccp_alpha=None"
   ]
  },
  {
   "cell_type": "code",
   "execution_count": 209,
   "id": "6a61751b",
   "metadata": {},
   "outputs": [
    {
     "name": "stdout",
     "output_type": "stream",
     "text": [
      "0.8145161290322581\n",
      "[[13 11  0]\n",
      " [ 7 33  0]\n",
      " [ 1  4 55]]\n"
     ]
    }
   ],
   "source": [
    "clf11 = tree.DecisionTreeClassifier(random_state=1, criterion = 'entropy', max_depth=5)\n",
    "clf11.fit(X_train, Y_train)\n",
    "prd = clf11.predict(X_test)\n",
    "print(accuracy_score(Y_test, prd))\n",
    "print(confusion_matrix(Y_test, prd))"
   ]
  },
  {
   "cell_type": "markdown",
   "id": "5b7d5db3",
   "metadata": {},
   "source": [
    "### criterion=entropy, max_depth=None, ccp_alpha=0.01"
   ]
  },
  {
   "cell_type": "code",
   "execution_count": 210,
   "id": "95aa0d75",
   "metadata": {},
   "outputs": [
    {
     "name": "stdout",
     "output_type": "stream",
     "text": [
      "0.8145161290322581\n",
      "[[14 10  0]\n",
      " [ 7 33  0]\n",
      " [ 1  5 54]]\n"
     ]
    }
   ],
   "source": [
    "clf12 = tree.DecisionTreeClassifier(random_state=1, criterion = 'entropy', ccp_alpha=0.01)\n",
    "clf12.fit(X_train, Y_train)\n",
    "prd = clf12.predict(X_test)\n",
    "print(accuracy_score(Y_test, prd))\n",
    "print(confusion_matrix(Y_test, prd))"
   ]
  },
  {
   "cell_type": "markdown",
   "id": "f9e370cd",
   "metadata": {},
   "source": [
    "# Visualizing the Trees"
   ]
  },
  {
   "cell_type": "code",
   "execution_count": 266,
   "id": "d61c47be",
   "metadata": {},
   "outputs": [
    {
     "data": {
      "text/plain": [
       "'3.pdf'"
      ]
     },
     "execution_count": 266,
     "metadata": {},
     "output_type": "execute_result"
    }
   ],
   "source": [
    "import graphviz\n",
    "featureArr = [\"pelvic incidence\", \"pelvic tilt\", \"lumbar lordosis angle\", \"sacral slope\", \"pelvic radius\", \n",
    "              \"degree spondylolisthesis\"]\n",
    "labelArr = [\"Hernia\", \"Normal\", \"Spondylolisthesis\"]\n",
    "dot_data = tree.export_graphviz(clf3, feature_names=featureArr, class_names=labelArr, filled=True, rounded=True, \n",
    "                                special_characters=True)\n",
    "graph = graphviz.Source(dot_data)\n",
    "graph.render('3', view=True)\n",
    "\n",
    "#change the clf# 5th line and the first parameter in 8th line to draw graph of different trees"
   ]
  },
  {
   "cell_type": "markdown",
   "id": "cfdb4a5e",
   "metadata": {},
   "source": [
    "# Obtaining Structural Measures"
   ]
  },
  {
   "cell_type": "code",
   "execution_count": 211,
   "id": "2ebcdd5e",
   "metadata": {},
   "outputs": [
    {
     "name": "stdout",
     "output_type": "stream",
     "text": [
      "1:  Depth: 8 | Leaf Nodes: 26\n",
      "2:  Depth: 5 | Leaf Nodes: 18\n",
      "3:  Depth: 6 | Leaf Nodes: 13\n",
      "4:  Depth: 7 | Leaf Nodes: 24\n",
      "5:  Depth: 5 | Leaf Nodes: 17\n",
      "6:  Depth: 7 | Leaf Nodes: 24\n",
      "7:  Depth: 7 | Leaf Nodes: 24\n",
      "8:  Depth: 5 | Leaf Nodes: 18\n",
      "9:  Depth: 5 | Leaf Nodes: 8\n",
      "10:  Depth: 7 | Leaf Nodes: 22\n",
      "11:  Depth: 5 | Leaf Nodes: 15\n",
      "12:  Depth: 7 | Leaf Nodes: 22\n"
     ]
    }
   ],
   "source": [
    "print(\"1: \", \"Depth:\", clf1.get_depth(), \"| Leaf Nodes:\", clf1.get_n_leaves())\n",
    "print(\"2: \", \"Depth:\", clf2.get_depth(), \"| Leaf Nodes:\", clf2.get_n_leaves())\n",
    "print(\"3: \", \"Depth:\", clf3.get_depth(), \"| Leaf Nodes:\", clf3.get_n_leaves())\n",
    "print(\"4: \", \"Depth:\", clf4.get_depth(), \"| Leaf Nodes:\", clf4.get_n_leaves())\n",
    "print(\"5: \", \"Depth:\", clf5.get_depth(), \"| Leaf Nodes:\", clf5.get_n_leaves())\n",
    "print(\"6: \", \"Depth:\", clf6.get_depth(), \"| Leaf Nodes:\", clf6.get_n_leaves())\n",
    "print(\"7: \", \"Depth:\", clf7.get_depth(), \"| Leaf Nodes:\", clf7.get_n_leaves())\n",
    "print(\"8: \", \"Depth:\", clf8.get_depth(), \"| Leaf Nodes:\", clf8.get_n_leaves())\n",
    "print(\"9: \", \"Depth:\", clf9.get_depth(), \"| Leaf Nodes:\", clf9.get_n_leaves())\n",
    "print(\"10: \", \"Depth:\", clf10.get_depth(), \"| Leaf Nodes:\", clf10.get_n_leaves())\n",
    "print(\"11: \", \"Depth:\", clf11.get_depth(), \"| Leaf Nodes:\", clf11.get_n_leaves())\n",
    "print(\"12: \", \"Depth:\", clf12.get_depth(), \"| Leaf Nodes:\", clf12.get_n_leaves())"
   ]
  },
  {
   "cell_type": "markdown",
   "id": "ed7672d9",
   "metadata": {},
   "source": [
    "# Identifying Misclassifications and retrieving Decision Path"
   ]
  },
  {
   "cell_type": "code",
   "execution_count": 331,
   "id": "521b84be",
   "metadata": {},
   "outputs": [],
   "source": [
    "X_train, X_test, Y_train, Y_test = train_test_split(x, y, test_size = 0.3, stratify = y, random_state = 1)\n",
    "clf3 = tree.DecisionTreeClassifier(random_state=1, ccp_alpha=0.01)\n",
    "clf3.fit(X_train, Y_train)\n",
    "prd = clf3.predict(X_train)"
   ]
  },
  {
   "cell_type": "code",
   "execution_count": 332,
   "id": "f594f4a7",
   "metadata": {},
   "outputs": [
    {
     "data": {
      "text/plain": [
       "matrix([[1, 1, 0, ..., 0, 1, 0],\n",
       "        [1, 0, 0, ..., 0, 0, 1],\n",
       "        [1, 1, 0, ..., 0, 1, 0],\n",
       "        ...,\n",
       "        [1, 0, 0, ..., 0, 0, 1],\n",
       "        [1, 1, 0, ..., 0, 1, 0],\n",
       "        [1, 0, 0, ..., 0, 0, 1]], dtype=int64)"
      ]
     },
     "execution_count": 332,
     "metadata": {},
     "output_type": "execute_result"
    }
   ],
   "source": [
    "dense_matrix = clf3.decision_path(X_train).todense()\n",
    "dense_matrix"
   ]
  },
  {
   "cell_type": "code",
   "execution_count": 333,
   "id": "6f8786bd",
   "metadata": {},
   "outputs": [
    {
     "name": "stdout",
     "output_type": "stream",
     "text": [
      "10\n",
      "110\n"
     ]
    }
   ],
   "source": [
    "Y_train.reset_index(drop=True,inplace=True)\n",
    "Y_train[0]\n",
    "prd[0]\n",
    "for i in range(len(Y_train)):\n",
    "    if Y_train[i] == 'DH' and prd[i] == 'NO': print(i)"
   ]
  },
  {
   "cell_type": "code",
   "execution_count": 334,
   "id": "4768e22d",
   "metadata": {},
   "outputs": [
    {
     "data": {
      "text/plain": [
       "matrix([[1, 1, 0, 0, 0, 0, 0, 0, 0, 0, 0, 0, 0, 0, 0, 1, 0, 0, 0, 0, 0,\n",
       "         0, 0, 1, 0]], dtype=int64)"
      ]
     },
     "execution_count": 334,
     "metadata": {},
     "output_type": "execute_result"
    }
   ],
   "source": [
    "dense_matrix[10,:]"
   ]
  },
  {
   "cell_type": "code",
   "execution_count": 335,
   "id": "889b9672",
   "metadata": {},
   "outputs": [
    {
     "data": {
      "text/plain": [
       "0     35.88\n",
       "1      1.11\n",
       "2     43.46\n",
       "3     34.77\n",
       "4    126.92\n",
       "5     -1.63\n",
       "Name: 0, dtype: float64"
      ]
     },
     "execution_count": 335,
     "metadata": {},
     "output_type": "execute_result"
    }
   ],
   "source": [
    "X_train.reset_index(drop=True,inplace=True)\n",
    "X_train.iloc[0]"
   ]
  },
  {
   "cell_type": "code",
   "execution_count": null,
   "id": "892a5a0e",
   "metadata": {},
   "outputs": [],
   "source": []
  }
 ],
 "metadata": {
  "kernelspec": {
   "display_name": "Python 3 (ipykernel)",
   "language": "python",
   "name": "python3"
  },
  "language_info": {
   "codemirror_mode": {
    "name": "ipython",
    "version": 3
   },
   "file_extension": ".py",
   "mimetype": "text/x-python",
   "name": "python",
   "nbconvert_exporter": "python",
   "pygments_lexer": "ipython3",
   "version": "3.9.13"
  }
 },
 "nbformat": 4,
 "nbformat_minor": 5
}
